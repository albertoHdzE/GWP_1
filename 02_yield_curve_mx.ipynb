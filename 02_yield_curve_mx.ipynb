{
 "cells": [
  {
   "cell_type": "code",
   "execution_count": 5,
   "metadata": {},
   "outputs": [],
   "source": [
    "import numpy as np\n",
    "from scipy.optimize import least_squares\n",
    "import matplotlib.pyplot as plt\n",
    "from scipy.interpolate import CubicSpline\n",
    "\n",
    "import pandas as pd"
   ]
  },
  {
   "cell_type": "code",
   "execution_count": 19,
   "metadata": {},
   "outputs": [
    {
     "data": {
      "text/html": [
       "<div>\n",
       "<style scoped>\n",
       "    .dataframe tbody tr th:only-of-type {\n",
       "        vertical-align: middle;\n",
       "    }\n",
       "\n",
       "    .dataframe tbody tr th {\n",
       "        vertical-align: top;\n",
       "    }\n",
       "\n",
       "    .dataframe thead th {\n",
       "        text-align: right;\n",
       "    }\n",
       "</style>\n",
       "<table border=\"1\" class=\"dataframe\">\n",
       "  <thead>\n",
       "    <tr style=\"text-align: right;\">\n",
       "      <th></th>\n",
       "      <th>Period</th>\n",
       "      <th>1M</th>\n",
       "      <th>3M</th>\n",
       "      <th>6M</th>\n",
       "      <th>1Y</th>\n",
       "      <th>3Y</th>\n",
       "      <th>5Y</th>\n",
       "      <th>7Y</th>\n",
       "      <th>10Y</th>\n",
       "      <th>30Y</th>\n",
       "      <th>10Y - 2Y</th>\n",
       "    </tr>\n",
       "  </thead>\n",
       "  <tbody>\n",
       "    <tr>\n",
       "      <th>6</th>\n",
       "      <td>Dec-19</td>\n",
       "      <td>7.493</td>\n",
       "      <td>7.507</td>\n",
       "      <td>7.392</td>\n",
       "      <td>7.198</td>\n",
       "      <td>6.964</td>\n",
       "      <td>6.95</td>\n",
       "      <td>7.044</td>\n",
       "      <td>7.067</td>\n",
       "      <td>7.432</td>\n",
       "      <td>n.a.</td>\n",
       "    </tr>\n",
       "    <tr>\n",
       "      <th>7</th>\n",
       "      <td>Dec-18</td>\n",
       "      <td>8.210</td>\n",
       "      <td>8.300</td>\n",
       "      <td>8.590</td>\n",
       "      <td>8.660</td>\n",
       "      <td>8.560</td>\n",
       "      <td>8.60</td>\n",
       "      <td>8.670</td>\n",
       "      <td>8.710</td>\n",
       "      <td>8.960</td>\n",
       "      <td>n.a.</td>\n",
       "    </tr>\n",
       "    <tr>\n",
       "      <th>8</th>\n",
       "      <td>Dec-17</td>\n",
       "      <td>7.280</td>\n",
       "      <td>7.370</td>\n",
       "      <td>7.520</td>\n",
       "      <td>7.600</td>\n",
       "      <td>7.580</td>\n",
       "      <td>7.68</td>\n",
       "      <td>7.620</td>\n",
       "      <td>7.720</td>\n",
       "      <td>7.890</td>\n",
       "      <td>n.a.</td>\n",
       "    </tr>\n",
       "    <tr>\n",
       "      <th>9</th>\n",
       "      <td>Dec-16</td>\n",
       "      <td>5.790</td>\n",
       "      <td>5.970</td>\n",
       "      <td>6.260</td>\n",
       "      <td>6.410</td>\n",
       "      <td>6.960</td>\n",
       "      <td>7.19</td>\n",
       "      <td>7.320</td>\n",
       "      <td>7.450</td>\n",
       "      <td>7.820</td>\n",
       "      <td>n.a.</td>\n",
       "    </tr>\n",
       "    <tr>\n",
       "      <th>10</th>\n",
       "      <td>Dec-15</td>\n",
       "      <td>3.030</td>\n",
       "      <td>3.280</td>\n",
       "      <td>3.540</td>\n",
       "      <td>3.670</td>\n",
       "      <td>4.840</td>\n",
       "      <td>5.72</td>\n",
       "      <td>5.946</td>\n",
       "      <td>6.270</td>\n",
       "      <td>6.980</td>\n",
       "      <td>n.a.</td>\n",
       "    </tr>\n",
       "  </tbody>\n",
       "</table>\n",
       "</div>"
      ],
      "text/plain": [
       "    Period     1M     3M     6M     1Y     3Y    5Y     7Y    10Y    30Y  \\\n",
       "6   Dec-19  7.493  7.507  7.392  7.198  6.964  6.95  7.044  7.067  7.432   \n",
       "7   Dec-18  8.210  8.300  8.590  8.660  8.560  8.60  8.670  8.710  8.960   \n",
       "8   Dec-17  7.280  7.370  7.520  7.600  7.580  7.68  7.620  7.720  7.890   \n",
       "9   Dec-16  5.790  5.970  6.260  6.410  6.960  7.19  7.320  7.450  7.820   \n",
       "10  Dec-15  3.030  3.280  3.540  3.670  4.840  5.72  5.946  6.270  6.980   \n",
       "\n",
       "   10Y - 2Y  \n",
       "6      n.a.  \n",
       "7      n.a.  \n",
       "8      n.a.  \n",
       "9      n.a.  \n",
       "10     n.a.  "
      ]
     },
     "execution_count": 19,
     "metadata": {},
     "output_type": "execute_result"
    }
   ],
   "source": [
    "mx_df = pd.read_csv('securities_mx.csv')\n",
    "mx_df.tail()"
   ]
  },
  {
   "cell_type": "code",
   "execution_count": 23,
   "metadata": {},
   "outputs": [
    {
     "name": "stdout",
     "output_type": "stream",
     "text": [
      "[ 0.25  0.5   1.    3.    5.    7.   10.  ]\n",
      "[3.28  3.54  3.67  4.84  5.72  5.946 6.27 ]\n"
     ]
    }
   ],
   "source": [
    "def get_time_and_yield(index):\n",
    "    # Define the time periods in years, excluding 1M and 30Y\n",
    "    t = np.array([3/12, 6/12, 1, 3, 5, 7, 10], dtype=float)\n",
    "    \n",
    "    # Get the yield data for the given index and convert to float, excluding 1M and 30Y\n",
    "    y = mx_df.iloc[index, 2:9].values.astype(float)\n",
    "    \n",
    "    return t, y\n",
    "\n",
    "t, y = get_time_and_yield(10)\n",
    "print(t)\n",
    "print(y)"
   ]
  },
  {
   "cell_type": "code",
   "execution_count": 24,
   "metadata": {},
   "outputs": [],
   "source": [
    "# Define the Nelson-Siegel model function\n",
    "def ns_model(t, beta0, beta1, beta2, tau):\n",
    "    return beta0 + beta1 * (1 - np.exp(-t/tau)) / (t/tau) + beta2 * (np.exp(-t/tau) - 1) / (t/tau)\n",
    "\n",
    "# Define the residual function for optimization\n",
    "def residual(params, t, y):\n",
    "    beta0, beta1, beta2, tau = params\n",
    "    return ns_model(t, beta0, beta1, beta2, tau) - y\n",
    "\n",
    "# Create a Cubic Spline object\n",
    "cs = CubicSpline(t, y)"
   ]
  },
  {
   "cell_type": "code",
   "execution_count": 25,
   "metadata": {},
   "outputs": [
    {
     "name": "stderr",
     "output_type": "stream",
     "text": [
      "/var/folders/zt/2fc2dgl527j0fpwfk176q2k40000gn/T/ipykernel_6003/4006174126.py:3: RuntimeWarning: invalid value encountered in divide\n",
      "  return beta0 + beta1 * (1 - np.exp(-t/tau)) / (t/tau) + beta2 * (np.exp(-t/tau) - 1) / (t/tau)\n"
     ]
    },
    {
     "data": {
      "image/png": "[encoded data removed]",
      "text/plain": [
       "<Figure size 640x480 with 1 Axes>"
      ]
     },
     "metadata": {},
     "output_type": "display_data"
    }
   ],
   "source": [
    "# Initial guess for NS parameters\n",
    "params_guess = [2.0, 1.0, 0.5, 2.0]\n",
    "\n",
    "# Optimize NS parameters using least squares\n",
    "result_ns = least_squares(residual, params_guess, args=(t, y))\n",
    "\n",
    "# Create a Cubic Spline object\n",
    "cs = CubicSpline(t, y)\n",
    "\n",
    "# Generate fitted yield curves\n",
    "t_plot = np.linspace(0, 10, 100)\n",
    "y_plot_ns = ns_model(t_plot, *result_ns.x)\n",
    "y_plot_cs = cs(t_plot)\n",
    "\n",
    "# Plot observed yields and fitted yield curves\n",
    "plt.plot(t, y, 'o', label='Observed yields')\n",
    "plt.plot(t_plot, y_plot_ns, label='Nelson-Siegel')\n",
    "plt.plot(t_plot, y_plot_cs, label='Cubic Spline')\n",
    "plt.xlabel('Time to maturity (years)')\n",
    "plt.ylabel('Yield (%)')\n",
    "plt.legend()\n",
    "plt.show()"
   ]
  },
  {
   "cell_type": "code",
   "execution_count": null,
   "metadata": {},
   "outputs": [],
   "source": []
  }
 ],
 "metadata": {
  "kernelspec": {
   "display_name": "venv",
   "language": "python",
   "name": "python3"
  },
  "language_info": {
   "codemirror_mode": {
    "name": "ipython",
    "version": 3
   },
   "file_extension": ".py",
   "mimetype": "text/x-python",
   "name": "python",
   "nbconvert_exporter": "python",
   "pygments_lexer": "ipython3",
   "version": "3.10.11"
  }
 },
 "nbformat": 4,
 "nbformat_minor": 2
}
